{
  "cells": [
    {
      "cell_type": "code",
      "execution_count": 49,
      "metadata": {
        "id": "T3YFO581evR4"
      },
      "outputs": [],
      "source": [
        "import pandas as pd\n",
        "import numpy as np\n",
        "import pickle\n",
        "from sklearn.model_selection import train_test_split\n",
        "from sklearn.ensemble import RandomForestClassifier\n",
        "from sklearn.metrics import accuracy_score\n",
        "import bz2file as bz2\n",
        "import pickle"
      ]
    },
    {
      "cell_type": "code",
      "execution_count": 50,
      "metadata": {
        "colab": {
          "base_uri": "https://localhost:8080/",
          "height": 424
        },
        "id": "0A4nahosezFB",
        "outputId": "73d660cb-33b9-4aab-ecb8-4bb12923d104"
      },
      "outputs": [
        {
          "data": {
            "text/html": [
              "<div>\n",
              "<style scoped>\n",
              "    .dataframe tbody tr th:only-of-type {\n",
              "        vertical-align: middle;\n",
              "    }\n",
              "\n",
              "    .dataframe tbody tr th {\n",
              "        vertical-align: top;\n",
              "    }\n",
              "\n",
              "    .dataframe thead th {\n",
              "        text-align: right;\n",
              "    }\n",
              "</style>\n",
              "<table border=\"1\" class=\"dataframe\">\n",
              "  <thead>\n",
              "    <tr style=\"text-align: right;\">\n",
              "      <th></th>\n",
              "      <th>N</th>\n",
              "      <th>P</th>\n",
              "      <th>K</th>\n",
              "      <th>S</th>\n",
              "      <th>Fe</th>\n",
              "      <th>Zn</th>\n",
              "      <th>temperature</th>\n",
              "      <th>ph</th>\n",
              "      <th>rainfall</th>\n",
              "      <th>label</th>\n",
              "    </tr>\n",
              "  </thead>\n",
              "  <tbody>\n",
              "    <tr>\n",
              "      <th>0</th>\n",
              "      <td>114</td>\n",
              "      <td>36</td>\n",
              "      <td>34</td>\n",
              "      <td>21</td>\n",
              "      <td>6</td>\n",
              "      <td>12</td>\n",
              "      <td>24.956179</td>\n",
              "      <td>8.101090</td>\n",
              "      <td>281.568586</td>\n",
              "      <td>rice</td>\n",
              "    </tr>\n",
              "    <tr>\n",
              "      <th>1</th>\n",
              "      <td>92</td>\n",
              "      <td>39</td>\n",
              "      <td>16</td>\n",
              "      <td>25</td>\n",
              "      <td>4</td>\n",
              "      <td>31</td>\n",
              "      <td>23.331957</td>\n",
              "      <td>7.314633</td>\n",
              "      <td>68.674883</td>\n",
              "      <td>maize</td>\n",
              "    </tr>\n",
              "    <tr>\n",
              "      <th>2</th>\n",
              "      <td>67</td>\n",
              "      <td>59</td>\n",
              "      <td>78</td>\n",
              "      <td>13</td>\n",
              "      <td>10</td>\n",
              "      <td>43</td>\n",
              "      <td>18.752991</td>\n",
              "      <td>7.442990</td>\n",
              "      <td>92.089206</td>\n",
              "      <td>chickpea</td>\n",
              "    </tr>\n",
              "    <tr>\n",
              "      <th>3</th>\n",
              "      <td>11</td>\n",
              "      <td>58</td>\n",
              "      <td>14</td>\n",
              "      <td>7</td>\n",
              "      <td>7</td>\n",
              "      <td>61</td>\n",
              "      <td>26.405158</td>\n",
              "      <td>7.373532</td>\n",
              "      <td>40.266762</td>\n",
              "      <td>lentil</td>\n",
              "    </tr>\n",
              "    <tr>\n",
              "      <th>4</th>\n",
              "      <td>10</td>\n",
              "      <td>14</td>\n",
              "      <td>39</td>\n",
              "      <td>30</td>\n",
              "      <td>3</td>\n",
              "      <td>3</td>\n",
              "      <td>21.095362</td>\n",
              "      <td>6.076303</td>\n",
              "      <td>104.313771</td>\n",
              "      <td>pomegranate</td>\n",
              "    </tr>\n",
              "    <tr>\n",
              "      <th>...</th>\n",
              "      <td>...</td>\n",
              "      <td>...</td>\n",
              "      <td>...</td>\n",
              "      <td>...</td>\n",
              "      <td>...</td>\n",
              "      <td>...</td>\n",
              "      <td>...</td>\n",
              "      <td>...</td>\n",
              "      <td>...</td>\n",
              "      <td>...</td>\n",
              "    </tr>\n",
              "    <tr>\n",
              "      <th>59995</th>\n",
              "      <td>2</td>\n",
              "      <td>137</td>\n",
              "      <td>201</td>\n",
              "      <td>31</td>\n",
              "      <td>37</td>\n",
              "      <td>32</td>\n",
              "      <td>26.312399</td>\n",
              "      <td>7.470779</td>\n",
              "      <td>66.684250</td>\n",
              "      <td>grapes</td>\n",
              "    </tr>\n",
              "    <tr>\n",
              "      <th>59996</th>\n",
              "      <td>40</td>\n",
              "      <td>124</td>\n",
              "      <td>200</td>\n",
              "      <td>37</td>\n",
              "      <td>62</td>\n",
              "      <td>27</td>\n",
              "      <td>24.563893</td>\n",
              "      <td>6.033880</td>\n",
              "      <td>111.952151</td>\n",
              "      <td>apple</td>\n",
              "    </tr>\n",
              "    <tr>\n",
              "      <th>59997</th>\n",
              "      <td>10</td>\n",
              "      <td>11</td>\n",
              "      <td>5</td>\n",
              "      <td>38</td>\n",
              "      <td>10</td>\n",
              "      <td>8</td>\n",
              "      <td>8.838381</td>\n",
              "      <td>7.420286</td>\n",
              "      <td>106.249639</td>\n",
              "      <td>orange</td>\n",
              "    </tr>\n",
              "    <tr>\n",
              "      <th>59998</th>\n",
              "      <td>127</td>\n",
              "      <td>60</td>\n",
              "      <td>21</td>\n",
              "      <td>7</td>\n",
              "      <td>100</td>\n",
              "      <td>47</td>\n",
              "      <td>24.839025</td>\n",
              "      <td>7.092913</td>\n",
              "      <td>68.320204</td>\n",
              "      <td>cotton</td>\n",
              "    </tr>\n",
              "    <tr>\n",
              "      <th>59999</th>\n",
              "      <td>90</td>\n",
              "      <td>58</td>\n",
              "      <td>32</td>\n",
              "      <td>25</td>\n",
              "      <td>1</td>\n",
              "      <td>4</td>\n",
              "      <td>25.270098</td>\n",
              "      <td>6.288272</td>\n",
              "      <td>161.103745</td>\n",
              "      <td>coffee</td>\n",
              "    </tr>\n",
              "  </tbody>\n",
              "</table>\n",
              "<p>60000 rows × 10 columns</p>\n",
              "</div>"
            ],
            "text/plain": [
              "         N    P    K   S   Fe  Zn  temperature        ph    rainfall  \\\n",
              "0      114   36   34  21    6  12    24.956179  8.101090  281.568586   \n",
              "1       92   39   16  25    4  31    23.331957  7.314633   68.674883   \n",
              "2       67   59   78  13   10  43    18.752991  7.442990   92.089206   \n",
              "3       11   58   14   7    7  61    26.405158  7.373532   40.266762   \n",
              "4       10   14   39  30    3   3    21.095362  6.076303  104.313771   \n",
              "...    ...  ...  ...  ..  ...  ..          ...       ...         ...   \n",
              "59995    2  137  201  31   37  32    26.312399  7.470779   66.684250   \n",
              "59996   40  124  200  37   62  27    24.563893  6.033880  111.952151   \n",
              "59997   10   11    5  38   10   8     8.838381  7.420286  106.249639   \n",
              "59998  127   60   21   7  100  47    24.839025  7.092913   68.320204   \n",
              "59999   90   58   32  25    1   4    25.270098  6.288272  161.103745   \n",
              "\n",
              "             label  \n",
              "0             rice  \n",
              "1            maize  \n",
              "2         chickpea  \n",
              "3           lentil  \n",
              "4      pomegranate  \n",
              "...            ...  \n",
              "59995       grapes  \n",
              "59996        apple  \n",
              "59997       orange  \n",
              "59998       cotton  \n",
              "59999       coffee  \n",
              "\n",
              "[60000 rows x 10 columns]"
            ]
          },
          "execution_count": 50,
          "metadata": {},
          "output_type": "execute_result"
        }
      ],
      "source": [
        "df = pd.read_csv('CropDataset.csv')\n",
        "df"
      ]
    },
    {
      "cell_type": "code",
      "execution_count": 51,
      "metadata": {
        "id": "DZMd-OKZe6S9"
      },
      "outputs": [],
      "source": [
        "X = df.iloc[:,:-1]\n",
        "y = df.iloc[:,-1]\n",
        "X_train,X_test,y_train,y_test=train_test_split(X,y,test_size=0.2,random_state=0)"
      ]
    },
    {
      "cell_type": "code",
      "execution_count": 52,
      "metadata": {
        "id": "gW8EXwFye8nv"
      },
      "outputs": [],
      "source": [
        "rf = RandomForestClassifier()\n",
        "rf.fit(X_train,y_train)\n",
        "y_pred=rf.predict(X_test)\n",
        "score=accuracy_score(y_test,y_pred)"
      ]
    },
    {
      "cell_type": "code",
      "execution_count": 53,
      "metadata": {
        "colab": {
          "base_uri": "https://localhost:8080/"
        },
        "id": "vxaqWVU2fptb",
        "outputId": "327aad72-5a14-4150-f91b-c6f451047b14"
      },
      "outputs": [
        {
          "data": {
            "text/plain": [
              "0.91825"
            ]
          },
          "execution_count": 53,
          "metadata": {},
          "output_type": "execute_result"
        }
      ],
      "source": [
        "score"
      ]
    },
    {
      "cell_type": "code",
      "execution_count": 54,
      "metadata": {
        "id": "_70FzxT7gCV7"
      },
      "outputs": [],
      "source": [
        "pickle_out = open(\"CropRecommendation.pkl\",\"wb\")\n",
        "pickle.dump(rf, pickle_out)\n",
        "pickle_out.close()"
      ]
    },
    {
      "cell_type": "code",
      "execution_count": 55,
      "metadata": {
        "colab": {
          "base_uri": "https://localhost:8080/"
        },
        "id": "l51AY89EhX3p",
        "outputId": "e2b2d0f9-ea57-4522-9523-ff98bbefe4f8"
      },
      "outputs": [
        {
          "name": "stderr",
          "output_type": "stream",
          "text": [
            "c:\\Users\\meetm\\AppData\\Local\\Programs\\Python\\Python310\\lib\\site-packages\\sklearn\\base.py:420: UserWarning: X does not have valid feature names, but RandomForestClassifier was fitted with feature names\n",
            "  warnings.warn(\n"
          ]
        },
        {
          "data": {
            "text/plain": [
              "array(['rice'], dtype=object)"
            ]
          },
          "execution_count": 55,
          "metadata": {},
          "output_type": "execute_result"
        }
      ],
      "source": [
        "rf.predict([[114,36,34,21,6,12,24.956179,8.101090,281.568586]])"
      ]
    },
    {
      "cell_type": "code",
      "execution_count": 56,
      "metadata": {},
      "outputs": [],
      "source": [
        "def compressed_pickle(title, data):\n",
        "    with bz2.BZ2File(title + \".pbz2\", \"w\") as f:\n",
        "        pickle.dump(data, f)"
      ]
    },
    {
      "cell_type": "code",
      "execution_count": 57,
      "metadata": {},
      "outputs": [],
      "source": [
        "compressed_pickle(\"Recommendation\", rf)"
      ]
    }
  ],
  "metadata": {
    "colab": {
      "provenance": []
    },
    "kernelspec": {
      "display_name": "Python 3",
      "language": "python",
      "name": "python3"
    },
    "language_info": {
      "codemirror_mode": {
        "name": "ipython",
        "version": 3
      },
      "file_extension": ".py",
      "mimetype": "text/x-python",
      "name": "python",
      "nbconvert_exporter": "python",
      "pygments_lexer": "ipython3",
      "version": "3.10.9"
    },
    "vscode": {
      "interpreter": {
        "hash": "4124a49af20b7b13f287f92cde27bf5a892309e9861860fad624a96f8d1a09d6"
      }
    }
  },
  "nbformat": 4,
  "nbformat_minor": 0
}
